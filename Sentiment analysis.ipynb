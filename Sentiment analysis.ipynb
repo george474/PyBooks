{
 "cells": [
  {
   "cell_type": "code",
   "execution_count": 1,
   "metadata": {},
   "outputs": [],
   "source": [
    "import pandas as pd\n",
    "import numpy as np\n",
    "import matplotlib.pyplot as plt\n",
    "import seaborn as sns\n",
    "\n",
    "plt.style.use('ggplot')\n",
    "\n",
    "import nltk"
   ]
  },
  {
   "cell_type": "code",
   "execution_count": 6,
   "metadata": {},
   "outputs": [
    {
     "data": {
      "text/html": [
       "<div>\n",
       "<style scoped>\n",
       "    .dataframe tbody tr th:only-of-type {\n",
       "        vertical-align: middle;\n",
       "    }\n",
       "\n",
       "    .dataframe tbody tr th {\n",
       "        vertical-align: top;\n",
       "    }\n",
       "\n",
       "    .dataframe thead th {\n",
       "        text-align: right;\n",
       "    }\n",
       "</style>\n",
       "<table border=\"1\" class=\"dataframe\">\n",
       "  <thead>\n",
       "    <tr style=\"text-align: right;\">\n",
       "      <th></th>\n",
       "      <th>Review</th>\n",
       "    </tr>\n",
       "  </thead>\n",
       "  <tbody>\n",
       "    <tr>\n",
       "      <th>0</th>\n",
       "      <td>Not Verified|  We are flying Business class fo...</td>\n",
       "    </tr>\n",
       "    <tr>\n",
       "      <th>1</th>\n",
       "      <td>✅Trip Verified|  I am in Australia and on Frid...</td>\n",
       "    </tr>\n",
       "    <tr>\n",
       "      <th>2</th>\n",
       "      <td>✅Trip Verified|  At 7.54 am on the day of trav...</td>\n",
       "    </tr>\n",
       "    <tr>\n",
       "      <th>3</th>\n",
       "      <td>✅Trip Verified|  Would happily fly them again....</td>\n",
       "    </tr>\n",
       "    <tr>\n",
       "      <th>4</th>\n",
       "      <td>Not Verified|  Flew premium, only worth the ex...</td>\n",
       "    </tr>\n",
       "  </tbody>\n",
       "</table>\n",
       "</div>"
      ],
      "text/plain": [
       "                                              Review\n",
       "0  Not Verified|  We are flying Business class fo...\n",
       "1  ✅Trip Verified|  I am in Australia and on Frid...\n",
       "2  ✅Trip Verified|  At 7.54 am on the day of trav...\n",
       "3  ✅Trip Verified|  Would happily fly them again....\n",
       "4  Not Verified|  Flew premium, only worth the ex..."
      ]
     },
     "execution_count": 6,
     "metadata": {},
     "output_type": "execute_result"
    }
   ],
   "source": [
    "df = pd.read_csv(\"british-airways-reviews.csv\")\n",
    "df.head()"
   ]
  },
  {
   "cell_type": "code",
   "execution_count": 7,
   "metadata": {},
   "outputs": [],
   "source": [
    "# remove \"Trip Verified\" and \"Trip not verified\" from the \"review\" column using regex\n",
    "df['Review'] = df['Review'].str.replace(r'Trip (not )?Verified\\| ', '', regex=True)"
   ]
  },
  {
   "cell_type": "code",
   "execution_count": 8,
   "metadata": {},
   "outputs": [
    {
     "data": {
      "text/html": [
       "<div>\n",
       "<style scoped>\n",
       "    .dataframe tbody tr th:only-of-type {\n",
       "        vertical-align: middle;\n",
       "    }\n",
       "\n",
       "    .dataframe tbody tr th {\n",
       "        vertical-align: top;\n",
       "    }\n",
       "\n",
       "    .dataframe thead th {\n",
       "        text-align: right;\n",
       "    }\n",
       "</style>\n",
       "<table border=\"1\" class=\"dataframe\">\n",
       "  <thead>\n",
       "    <tr style=\"text-align: right;\">\n",
       "      <th></th>\n",
       "      <th>Review</th>\n",
       "    </tr>\n",
       "  </thead>\n",
       "  <tbody>\n",
       "    <tr>\n",
       "      <th>0</th>\n",
       "      <td>Not Verified|  We are flying Business class fo...</td>\n",
       "    </tr>\n",
       "    <tr>\n",
       "      <th>1</th>\n",
       "      <td>✅ I am in Australia and on Friday night, went ...</td>\n",
       "    </tr>\n",
       "    <tr>\n",
       "      <th>2</th>\n",
       "      <td>✅ At 7.54 am on the day of travel whilst drivi...</td>\n",
       "    </tr>\n",
       "    <tr>\n",
       "      <th>3</th>\n",
       "      <td>✅ Would happily fly them again. I had a person...</td>\n",
       "    </tr>\n",
       "    <tr>\n",
       "      <th>4</th>\n",
       "      <td>Not Verified|  Flew premium, only worth the ex...</td>\n",
       "    </tr>\n",
       "  </tbody>\n",
       "</table>\n",
       "</div>"
      ],
      "text/plain": [
       "                                              Review\n",
       "0  Not Verified|  We are flying Business class fo...\n",
       "1  ✅ I am in Australia and on Friday night, went ...\n",
       "2  ✅ At 7.54 am on the day of travel whilst drivi...\n",
       "3  ✅ Would happily fly them again. I had a person...\n",
       "4  Not Verified|  Flew premium, only worth the ex..."
      ]
     },
     "execution_count": 8,
     "metadata": {},
     "output_type": "execute_result"
    }
   ],
   "source": [
    "df.head()"
   ]
  },
  {
   "cell_type": "code",
   "execution_count": 9,
   "metadata": {},
   "outputs": [
    {
     "data": {
      "text/plain": [
       "0       Not Verified|  We are flying Business class fo...\n",
       "1       ✅ I am in Australia and on Friday night, went ...\n",
       "2       ✅ At 7.54 am on the day of travel whilst drivi...\n",
       "3       ✅ Would happily fly them again. I had a person...\n",
       "4       Not Verified|  Flew premium, only worth the ex...\n",
       "                              ...                        \n",
       "3482    Flew LHR - VIE return operated by bmi but BA a...\n",
       "3483    LHR to HAM. Purser addresses all club passenge...\n",
       "3484    My son who had worked for British Airways urge...\n",
       "3485    London City-New York JFK via Shannon on A318 b...\n",
       "3486    SIN-LHR BA12 B747-436 First Class. Old aircraf...\n",
       "Name: Review, Length: 3487, dtype: object"
      ]
     },
     "execution_count": 9,
     "metadata": {},
     "output_type": "execute_result"
    }
   ],
   "source": [
    "df[\"Review\"]"
   ]
  },
  {
   "cell_type": "code",
   "execution_count": 11,
   "metadata": {},
   "outputs": [
    {
     "data": {
      "text/plain": [
       "(3487, 1)"
      ]
     },
     "execution_count": 11,
     "metadata": {},
     "output_type": "execute_result"
    }
   ],
   "source": [
    "df.shape"
   ]
  },
  {
   "cell_type": "code",
   "execution_count": 20,
   "metadata": {},
   "outputs": [],
   "source": [
    "import nltk\n",
    "from nltk.sentiment.vader import SentimentIntensityAnalyzer"
   ]
  },
  {
   "cell_type": "code",
   "execution_count": 22,
   "metadata": {},
   "outputs": [
    {
     "name": "stderr",
     "output_type": "stream",
     "text": [
      "[nltk_data] Downloading package vader_lexicon to\n",
      "[nltk_data]     C:\\Users\\georg\\AppData\\Roaming\\nltk_data...\n",
      "[nltk_data]   Package vader_lexicon is already up-to-date!\n"
     ]
    },
    {
     "data": {
      "text/plain": [
       "True"
      ]
     },
     "execution_count": 22,
     "metadata": {},
     "output_type": "execute_result"
    }
   ],
   "source": [
    "nltk.download('vader_lexicon')"
   ]
  },
  {
   "cell_type": "code",
   "execution_count": 24,
   "metadata": {},
   "outputs": [],
   "source": [
    "analyzer = SentimentIntensityAnalyzer()\n",
    "\n",
    "# Calculate the sentiment scores for each row in the 'Review' column\n",
    "scores = df['Review'].apply(analyzer.polarity_scores)\n",
    "\n",
    "# Combine the scores into a DataFrame\n",
    "scores_df = pd.DataFrame(list(scores))\n",
    "\n",
    "# Concatenate the scores DataFrame with the original DataFrame\n",
    "result_df = pd.concat([df, scores_df], axis=1)\n"
   ]
  },
  {
   "cell_type": "code",
   "execution_count": 25,
   "metadata": {},
   "outputs": [
    {
     "name": "stdout",
     "output_type": "stream",
     "text": [
      "                                                 Review    neg    neu    pos  \\\n",
      "0     Not Verified|  We are flying Business class fo...  0.034  0.943  0.023   \n",
      "1     ✅ I am in Australia and on Friday night, went ...  0.060  0.932  0.008   \n",
      "2     ✅ At 7.54 am on the day of travel whilst drivi...  0.146  0.754  0.100   \n",
      "3     ✅ Would happily fly them again. I had a person...  0.051  0.686  0.263   \n",
      "4     Not Verified|  Flew premium, only worth the ex...  0.103  0.777  0.120   \n",
      "...                                                 ...    ...    ...    ...   \n",
      "3482  Flew LHR - VIE return operated by bmi but BA a...  0.027  0.667  0.306   \n",
      "3483  LHR to HAM. Purser addresses all club passenge...  0.000  0.712  0.288   \n",
      "3484  My son who had worked for British Airways urge...  0.056  0.875  0.069   \n",
      "3485  London City-New York JFK via Shannon on A318 b...  0.000  0.711  0.289   \n",
      "3486  SIN-LHR BA12 B747-436 First Class. Old aircraf...  0.078  0.795  0.126   \n",
      "\n",
      "      compound  \n",
      "0      -0.4932  \n",
      "1      -0.7579  \n",
      "2      -0.7710  \n",
      "3       0.9455  \n",
      "4       0.4985  \n",
      "...        ...  \n",
      "3482    0.9840  \n",
      "3483    0.8720  \n",
      "3484    0.4516  \n",
      "3485    0.9148  \n",
      "3486    0.8096  \n",
      "\n",
      "[3487 rows x 5 columns]\n"
     ]
    }
   ],
   "source": [
    "print(result_df)"
   ]
  },
  {
   "cell_type": "code",
   "execution_count": 33,
   "metadata": {},
   "outputs": [
    {
     "name": "stdout",
     "output_type": "stream",
     "text": [
      "                                                 Review sentiment    neg  \\\n",
      "0     Not Verified|  We are flying Business class fo...  negative  0.034   \n",
      "1     ✅ I am in Australia and on Friday night, went ...  negative  0.060   \n",
      "2     ✅ At 7.54 am on the day of travel whilst drivi...  negative  0.146   \n",
      "3     ✅ Would happily fly them again. I had a person...  positive  0.051   \n",
      "4     Not Verified|  Flew premium, only worth the ex...  positive  0.103   \n",
      "...                                                 ...       ...    ...   \n",
      "3482  Flew LHR - VIE return operated by bmi but BA a...  positive  0.027   \n",
      "3483  LHR to HAM. Purser addresses all club passenge...  positive  0.000   \n",
      "3484  My son who had worked for British Airways urge...  positive  0.056   \n",
      "3485  London City-New York JFK via Shannon on A318 b...  positive  0.000   \n",
      "3486  SIN-LHR BA12 B747-436 First Class. Old aircraf...  positive  0.078   \n",
      "\n",
      "        neu    pos  compound  \n",
      "0     0.943  0.023   -0.4932  \n",
      "1     0.932  0.008   -0.7579  \n",
      "2     0.754  0.100   -0.7710  \n",
      "3     0.686  0.263    0.9455  \n",
      "4     0.777  0.120    0.4985  \n",
      "...     ...    ...       ...  \n",
      "3482  0.667  0.306    0.9840  \n",
      "3483  0.712  0.288    0.8720  \n",
      "3484  0.875  0.069    0.4516  \n",
      "3485  0.711  0.289    0.9148  \n",
      "3486  0.795  0.126    0.8096  \n",
      "\n",
      "[3487 rows x 6 columns]\n"
     ]
    }
   ],
   "source": [
    "from nltk.sentiment import SentimentIntensityAnalyzer\n",
    "\n",
    "# Initialize the sentiment analyzer\n",
    "analyzer = SentimentIntensityAnalyzer()\n",
    "\n",
    "\n",
    "# Calculate the sentiment scores for each row in the 'Review' column\n",
    "scores = df['Review'].apply(analyzer.polarity_scores)\n",
    "\n",
    "# Combine the scores into a DataFrame\n",
    "scores_df = pd.DataFrame(list(scores))\n",
    "\n",
    "# Add a new column to the original DataFrame with the sentiment labels\n",
    "conditions = [\n",
    "    (scores_df['compound'] > 0.05),\n",
    "    (scores_df['compound'] < -0.05),\n",
    "    (scores_df['compound'] >= -0.05) & (scores_df['compound'] <= 0.05)\n",
    "]\n",
    "\n",
    "values = ['positive', 'negative', 'neutral']\n",
    "\n",
    "df['sentiment'] = np.select(conditions, values)\n",
    "\n",
    "# Concatenate the scores DataFrame with the original DataFrame\n",
    "result_df = pd.concat([df, scores_df], axis=1)\n",
    "\n",
    "# Print the resulting DataFrame with the sentiment scores and labels\n",
    "print(result_df)"
   ]
  },
  {
   "cell_type": "code",
   "execution_count": 40,
   "metadata": {},
   "outputs": [],
   "source": [
    "result_df = pd.read_csv(\"result.csv\")"
   ]
  },
  {
   "cell_type": "code",
   "execution_count": 43,
   "metadata": {},
   "outputs": [
    {
     "ename": "ModuleNotFoundError",
     "evalue": "No module named 'wordcloud'",
     "output_type": "error",
     "traceback": [
      "\u001b[1;31m---------------------------------------------------------------------------\u001b[0m",
      "\u001b[1;31mModuleNotFoundError\u001b[0m                       Traceback (most recent call last)",
      "Cell \u001b[1;32mIn[43], line 2\u001b[0m\n\u001b[0;32m      1\u001b[0m \u001b[39mimport\u001b[39;00m \u001b[39mmatplotlib\u001b[39;00m\u001b[39m.\u001b[39;00m\u001b[39mpyplot\u001b[39;00m \u001b[39mas\u001b[39;00m \u001b[39mplt\u001b[39;00m\n\u001b[1;32m----> 2\u001b[0m \u001b[39mfrom\u001b[39;00m \u001b[39mwordcloud\u001b[39;00m \u001b[39mimport\u001b[39;00m WordCloud\n\u001b[0;32m      4\u001b[0m \u001b[39m# Plot a histogram of the compound scores\u001b[39;00m\n\u001b[0;32m      5\u001b[0m plt\u001b[39m.\u001b[39mhist(result_df[\u001b[39m'\u001b[39m\u001b[39mcompound\u001b[39m\u001b[39m'\u001b[39m], bins\u001b[39m=\u001b[39m\u001b[39m20\u001b[39m)\n",
      "\u001b[1;31mModuleNotFoundError\u001b[0m: No module named 'wordcloud'"
     ]
    }
   ],
   "source": [
    "import matplotlib.pyplot as plt\n",
    "from wordcloud import WordCloud\n",
    "\n",
    "# Plot a histogram of the compound scores\n",
    "plt.hist(result_df['compound'], bins=20)\n",
    "plt.xlabel('Compound Sentiment Score')\n",
    "plt.ylabel('Frequency')\n",
    "plt.title('Distribution of Sentiment Scores')\n",
    "plt.show()\n",
    "\n",
    "# Generate a word cloud of the most common words in the reviews\n",
    "text = ' '.join(result_df['clean_review'].tolist())\n",
    "wordcloud = WordCloud(width=800, height=400, background_color='white').generate(text)\n",
    "plt.imshow(wordcloud, interpolation='bilinear')\n",
    "plt.axis('off')\n",
    "plt.title('Word Cloud of Reviews')\n",
    "plt.show()"
   ]
  },
  {
   "cell_type": "code",
   "execution_count": null,
   "metadata": {},
   "outputs": [],
   "source": []
  }
 ],
 "metadata": {
  "kernelspec": {
   "display_name": "base",
   "language": "python",
   "name": "python3"
  },
  "language_info": {
   "codemirror_mode": {
    "name": "ipython",
    "version": 3
   },
   "file_extension": ".py",
   "mimetype": "text/x-python",
   "name": "python",
   "nbconvert_exporter": "python",
   "pygments_lexer": "ipython3",
   "version": "3.9.13"
  },
  "orig_nbformat": 4
 },
 "nbformat": 4,
 "nbformat_minor": 2
}
